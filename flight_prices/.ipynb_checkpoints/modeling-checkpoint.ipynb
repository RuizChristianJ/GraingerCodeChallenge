{
 "cells": [
  {
   "cell_type": "markdown",
   "id": "79c59622-82af-40ba-bcdf-583da1e8525a",
   "metadata": {},
   "source": [
    "# Modeling Notebook"
   ]
  },
  {
   "cell_type": "markdown",
   "id": "6600de49",
   "metadata": {},
   "source": [
    "Below is the notebook that the data scientist used to build his model. Here we create a simple Lasso model and get cross-validation and out of sample metrics to make sure that our model produces good accuracy metrics (we use R2 for our metric).\n",
    "\n",
    "The final model deployed should be using `flight_prices_training.csv` as its training data. "
   ]
  },
  {
   "cell_type": "markdown",
   "id": "655e342e",
   "metadata": {},
   "source": [
    "### Train Test Split"
   ]
  },
  {
   "cell_type": "code",
   "execution_count": 3,
   "id": "62e049d4",
   "metadata": {},
   "outputs": [],
   "source": [
    "import pandas as pd\n",
    "from sklearn.model_selection import train_test_split\n",
    "\n",
    "df = pd.read_csv(\"flight_prices_training.csv\")\n",
    "train, test = train_test_split(df, test_size=0.2)"
   ]
  },
  {
   "cell_type": "markdown",
   "id": "47d01ac6",
   "metadata": {},
   "source": [
    "### Preprocessing"
   ]
  },
  {
   "cell_type": "code",
   "execution_count": 4,
   "id": "b907f1bd-8f21-415e-8032-769c984a47f8",
   "metadata": {},
   "outputs": [],
   "source": [
    "train = train.drop(columns=['flight'])\n",
    "test = test.drop(columns=['flight'])\n",
    "\n",
    "num_cols = ['days_left', 'duration']\n",
    "cat_cols = ['airline', 'source_city', 'departure_time', 'stops', 'arrival_time', 'destination_city', 'class']\n",
    "\n",
    "train = pd.get_dummies(train, prefix = cat_cols, columns = cat_cols)\n",
    "test = pd.get_dummies(test, prefix = cat_cols, columns = cat_cols)\n",
    "\n",
    "y_train = train['price']\n",
    "X_train = train.drop(['price'], axis=1)\n",
    "y_test = test['price']\n",
    "X_test = test.drop(['price'], axis=1)"
   ]
  },
  {
   "cell_type": "markdown",
   "id": "08f3b0ff",
   "metadata": {},
   "source": [
    "### Model Fitting and Cross Validation"
   ]
  },
  {
   "cell_type": "code",
   "execution_count": 5,
   "id": "c768ecf7-dbb4-40b1-8fb1-aac351df7666",
   "metadata": {},
   "outputs": [
    {
     "name": "stdout",
     "output_type": "stream",
     "text": [
      "Cross Val R2 Score:  0.9109412655258158\n"
     ]
    }
   ],
   "source": [
    "from sklearn.model_selection import cross_val_score, cross_validate\n",
    "from sklearn import linear_model\n",
    "\n",
    "lasso = linear_model.Lasso(alpha=.1, max_iter=5000)\n",
    "cv_results = cross_validate(lasso, X_train, y_train, cv=5, return_estimator=True)\n",
    "print(\"Cross Val R2 Score: \", cv_results['test_score'].mean())"
   ]
  },
  {
   "cell_type": "markdown",
   "id": "8eb62f5a",
   "metadata": {},
   "source": [
    "### Final Out of Sample Testing"
   ]
  },
  {
   "cell_type": "code",
   "execution_count": 6,
   "id": "96e6460c",
   "metadata": {},
   "outputs": [
    {
     "name": "stdout",
     "output_type": "stream",
     "text": [
      "Out of Sample R2 Score:  0.9117529966194208\n"
     ]
    }
   ],
   "source": [
    "from sklearn.metrics import r2_score\n",
    "lasso = lasso.fit(X_train, y_train)\n",
    "predicted = lasso.predict(X_test)\n",
    "print(\"Out of Sample R2 Score: \", r2_score(y_test, predicted))"
   ]
  }
 ],
 "metadata": {
  "kernelspec": {
   "display_name": "Python 3 (ipykernel)",
   "language": "python",
   "name": "python3"
  },
  "language_info": {
   "codemirror_mode": {
    "name": "ipython",
    "version": 3
   },
   "file_extension": ".py",
   "mimetype": "text/x-python",
   "name": "python",
   "nbconvert_exporter": "python",
   "pygments_lexer": "ipython3",
   "version": "3.9.1"
  }
 },
 "nbformat": 4,
 "nbformat_minor": 5
}
